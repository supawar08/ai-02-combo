{
 "cells": [
  {
   "cell_type": "raw",
   "id": "f7ffc326",
   "metadata": {
    "vscode": {
     "languageId": "raw"
    }
   },
   "source": [
    "Notes:\n",
    "- Supervised Learning\n",
    "- Unsupervised Leanrning\n",
    "- Reinforcement Learning\n",
    "- Semi-supervised learning \n",
    "    -- Not all dataset is labeled, few records have Y value are missing\n",
    "    -- Create model with available data and fill model for missing records\n"
   ]
  },
  {
   "cell_type": "raw",
   "id": "bb9ac3a6",
   "metadata": {
    "vscode": {
     "languageId": "raw"
    }
   },
   "source": [
    "What is Cost function and how does it help to improve model?\n",
    "- Cost is known as error\n",
    "- Cost function is used to calc error\n",
    "- MAE(Mean absolute error), MSC (Mean Scored Error )\n",
    "- Error is diff between predicted and error value"
   ]
  },
  {
   "cell_type": "raw",
   "id": "d8c96d4c",
   "metadata": {
    "vscode": {
     "languageId": "raw"
    }
   },
   "source": [
    "Describe pre-processsing?\n",
    "- Taking care of missing values\n",
    "- Taking care of datatype\n",
    "- Removing columns which are not needed\n",
    "- Adding columns which are needed but not present\n",
    "- "
   ]
  },
  {
   "cell_type": "raw",
   "id": "352adc28",
   "metadata": {
    "vscode": {
     "languageId": "raw"
    }
   },
   "source": [
    "Explain how linear regression works. When to use this?\n",
    "\n",
    "Regularization used to avoid underfitting\n",
    "\n",
    "Reinforcement Learning:\n",
    "    - Getting to know data\n",
    "\n",
    "Ensemble learning:\n",
    "    - Results based of multiple learning models"
   ]
  }
 ],
 "metadata": {
  "language_info": {
   "name": "python"
  }
 },
 "nbformat": 4,
 "nbformat_minor": 5
}
