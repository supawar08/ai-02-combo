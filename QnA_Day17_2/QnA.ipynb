{
 "cells": [
  {
   "cell_type": "markdown",
   "id": "f7ffc326",
   "metadata": {},
   "source": []
  }
 ],
 "metadata": {
  "language_info": {
   "name": "python"
  }
 },
 "nbformat": 4,
 "nbformat_minor": 5
}
