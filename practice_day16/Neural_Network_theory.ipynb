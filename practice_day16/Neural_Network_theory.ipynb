{
 "cells": [
  {
   "cell_type": "raw",
   "id": "73c0be5d",
   "metadata": {},
   "source": [
    "Introduction\n",
    "    - Inspired by Human brain\n",
    "    - Interconnected nodes/nearons\n",
    "    - Learns from own mistake and improve continuously\n",
    "    - Solve complex problems with great accuracy\n",
    "    - Help machine to make intelligent decision with limited human assistance"
   ]
  },
  {
   "cell_type": "raw",
   "id": "de756e88",
   "metadata": {
    "vscode": {
     "languageId": "raw"
    }
   },
   "source": [
    "Structure of Neural Network\n",
    "    - Neural Network\n",
    "    |-BNN\n",
    "    |-ANN\n",
    "        |-CNN\n",
    "        |-RNN\n",
    "        |-Transformers"
   ]
  },
  {
   "cell_type": "raw",
   "id": "246184bb",
   "metadata": {
    "vscode": {
     "languageId": "raw"
    }
   },
   "source": [
    "Architecture of Simple Neural Network\n",
    "    - Input Layer (1-n nodes)\n",
    "    - Hidden Layer (0-n Layers with 1-n Nodes)\n",
    "    - Output Layer (1-n node)"
   ]
  }
 ],
 "metadata": {
  "language_info": {
   "name": "python"
  }
 },
 "nbformat": 4,
 "nbformat_minor": 5
}
