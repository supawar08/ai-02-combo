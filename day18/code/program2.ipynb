{
 "cells": [
  {
   "cell_type": "markdown",
   "id": "34fc8b6d-85e4-4ab7-b04a-85a6c04f7439",
   "metadata": {},
   "source": [
    "# Operations on Tensor"
   ]
  },
  {
   "cell_type": "markdown",
   "id": "4dd16e0a-7c46-42e9-9983-27703a5ca794",
   "metadata": {},
   "source": [
    "### import required packages"
   ]
  },
  {
   "cell_type": "code",
   "execution_count": 1,
   "id": "df432d50-90d4-4ca8-81cd-ae3642cf6051",
   "metadata": {},
   "outputs": [],
   "source": [
    "import torch"
   ]
  },
  {
   "cell_type": "markdown",
   "id": "c778d5f6-a7c0-4540-a106-defd33e9600b",
   "metadata": {},
   "source": [
    "### Arithmetic operations"
   ]
  },
  {
   "cell_type": "code",
   "execution_count": 2,
   "id": "3270a7d8-8ea4-49b3-8e15-f402b55cfef5",
   "metadata": {},
   "outputs": [],
   "source": [
    "t1 = torch.tensor([1, 2, 3, 4, 5])\n",
    "t2 = torch.tensor([10, 20, 30, 40, 50])"
   ]
  },
  {
   "cell_type": "code",
   "execution_count": 4,
   "id": "1c70db75-76c5-4de5-b869-3e1c64686be7",
   "metadata": {},
   "outputs": [
    {
     "name": "stdout",
     "output_type": "stream",
     "text": [
      "t1 + 10 = tensor([11, 12, 13, 14, 15])\n",
      "t1 + t2 = tensor([11, 22, 33, 44, 55])\n"
     ]
    }
   ],
   "source": [
    "# addition\n",
    "print(f\"t1 + 10 = {t1 + 10}\")\n",
    "print(f\"t1 + t2 = {t1 + t2}\")"
   ]
  },
  {
   "cell_type": "code",
   "execution_count": 5,
   "id": "6aaf72e6-8841-4249-86d6-78df6a370a72",
   "metadata": {},
   "outputs": [
    {
     "name": "stdout",
     "output_type": "stream",
     "text": [
      "t1 - 10 = tensor([-9, -8, -7, -6, -5])\n",
      "t2 - t1 = tensor([ 9, 18, 27, 36, 45])\n"
     ]
    }
   ],
   "source": [
    "# subtraction\n",
    "print(f\"t1 - 10 = {t1 - 10}\")\n",
    "print(f\"t2 - t1 = {t2 - t1}\")"
   ]
  },
  {
   "cell_type": "code",
   "execution_count": 6,
   "id": "65e89cd6-39d8-4e50-ac15-a6fadde80563",
   "metadata": {},
   "outputs": [
    {
     "name": "stdout",
     "output_type": "stream",
     "text": [
      "t1 / 2 = tensor([3, 4, 5, 6, 7])\n",
      "t1 / t2 = tensor([0.1000, 0.1000, 0.1000, 0.1000, 0.1000])\n"
     ]
    }
   ],
   "source": [
    "# division\n",
    "print(f\"t1 / 2 = {t1 + 2}\")\n",
    "print(f\"t1 / t2 = {t1 / t2}\")"
   ]
  },
  {
   "cell_type": "code",
   "execution_count": 7,
   "id": "3abaeb02-17a0-4f7f-ba32-9e37c0a7bf00",
   "metadata": {},
   "outputs": [
    {
     "name": "stdout",
     "output_type": "stream",
     "text": [
      "t1 * 10 = tensor([10, 20, 30, 40, 50])\n",
      "t1 * t2 = tensor([ 10,  40,  90, 160, 250])\n"
     ]
    }
   ],
   "source": [
    "# multiplication\n",
    "print(f\"t1 * 10 = {t1 * 10}\")\n",
    "print(f\"t1 * t2 = {t1 * t2}\")"
   ]
  },
  {
   "cell_type": "code",
   "execution_count": 8,
   "id": "f244cd58-f334-4689-9dc4-3852577f1e7b",
   "metadata": {},
   "outputs": [
    {
     "name": "stdout",
     "output_type": "stream",
     "text": [
      "t1 ** 3 = tensor([  1,   8,  27,  64, 125])\n"
     ]
    }
   ],
   "source": [
    "# power\n",
    "print(f\"t1 ** 3 = {t1 ** 3}\")"
   ]
  },
  {
   "cell_type": "code",
   "execution_count": 11,
   "id": "1e486137-5319-4819-93aa-1dc03b065a1c",
   "metadata": {},
   "outputs": [],
   "source": [
    "t1 = torch.tensor([10, 20])\n",
    "t2 = torch.tensor([10, 30, 50])\n",
    "\n",
    "# this operation will fail as both t1 and t2 are of different sizes\n",
    "# t1 + t2"
   ]
  },
  {
   "cell_type": "code",
   "execution_count": null,
   "id": "78bb25ee-719f-4fda-acfc-53b0fc005fff",
   "metadata": {},
   "outputs": [],
   "source": []
  },
  {
   "cell_type": "markdown",
   "id": "59f6b72d-409b-4efb-9960-26f1cdb28694",
   "metadata": {},
   "source": [
    "### comparison operations"
   ]
  },
  {
   "cell_type": "code",
   "execution_count": 40,
   "id": "c993f1de-c7f1-45ff-ac31-be9f884cd554",
   "metadata": {},
   "outputs": [],
   "source": [
    "t1 = torch.tensor([1, 2, 3, 4, 5])\n",
    "t2 = torch.tensor([10, 20, 30, 40, 50])"
   ]
  },
  {
   "cell_type": "code",
   "execution_count": 41,
   "id": "e8e9651d-8cf2-4949-9acd-6ff5ed723382",
   "metadata": {},
   "outputs": [
    {
     "name": "stdout",
     "output_type": "stream",
     "text": [
      "t1 == 4 = tensor([False, False, False,  True, False])\n",
      "t1 == t2 = tensor([False, False, False, False, False])\n"
     ]
    }
   ],
   "source": [
    "print(f\"t1 == 4 = {t1 == 4}\")\n",
    "print(f\"t1 == t2 = {t1 == t2}\")"
   ]
  },
  {
   "cell_type": "code",
   "execution_count": 42,
   "id": "b7dfa176-fa48-4d96-909a-04b95aa42092",
   "metadata": {},
   "outputs": [
    {
     "name": "stdout",
     "output_type": "stream",
     "text": [
      "t1 != 4 = tensor([ True,  True,  True, False,  True])\n",
      "t1 != t2 = tensor([True, True, True, True, True])\n"
     ]
    }
   ],
   "source": [
    "print(f\"t1 != 4 = {t1 != 4}\")\n",
    "print(f\"t1 != t2 = {t1 != t2}\")"
   ]
  },
  {
   "cell_type": "code",
   "execution_count": 43,
   "id": "7f0c585e-5058-4a83-be27-f05c01e46487",
   "metadata": {},
   "outputs": [
    {
     "name": "stdout",
     "output_type": "stream",
     "text": [
      "t1 > 4 = tensor([False, False, False, False,  True])\n",
      "t1 > t2 = tensor([False, False, False, False, False])\n"
     ]
    }
   ],
   "source": [
    "print(f\"t1 > 4 = {t1 > 4}\")\n",
    "print(f\"t1 > t2 = {t1 > t2}\")"
   ]
  },
  {
   "cell_type": "markdown",
   "id": "5029c66c-fbd7-4d36-89a7-051686619ffb",
   "metadata": {},
   "source": [
    "## matrix multiplication"
   ]
  },
  {
   "cell_type": "code",
   "execution_count": 15,
   "id": "90d556ae-3e27-4ce4-9b9b-6f7db3030ce1",
   "metadata": {},
   "outputs": [
    {
     "name": "stdout",
     "output_type": "stream",
     "text": [
      "matmul = tensor([[19, 22],\n",
      "        [43, 50]])\n",
      "matmul = tensor([[19, 22],\n",
      "        [43, 50]])\n"
     ]
    }
   ],
   "source": [
    "m1 = torch.tensor([\n",
    "    [1, 2],\n",
    "    [3, 4]\n",
    "])\n",
    "\n",
    "m2 = torch.tensor([\n",
    "    [5, 6],\n",
    "    [7, 8]\n",
    "])\n",
    "\n",
    "print(f\"matmul = {torch.matmul(m1, m2)}\")\n",
    "print(f\"matmul = {m1 @ m2}\")\n",
    "\n",
    "# 1 * 5 + 2 * 7 = 19\n",
    "# 1 * 6 + 2 * 8 = 22"
   ]
  },
  {
   "cell_type": "markdown",
   "id": "5ed94707-e00d-452d-aa45-7a5b07dfc50b",
   "metadata": {},
   "source": [
    "### reshape the tensor"
   ]
  },
  {
   "cell_type": "code",
   "execution_count": 19,
   "id": "cfc23af0-cdfc-4f3a-9ef3-4c36f6eb8575",
   "metadata": {},
   "outputs": [],
   "source": [
    "def print_tensor_info(t):\n",
    "    print(f\"t = {t}\")\n",
    "    print(f\"shape of t = {t.shape}\")\n",
    "    print(f\"dimensions of t = {t.ndim}\")"
   ]
  },
  {
   "cell_type": "code",
   "execution_count": 25,
   "id": "33c6ebae-5a0f-4ee3-a142-b40b037620c6",
   "metadata": {},
   "outputs": [
    {
     "name": "stdout",
     "output_type": "stream",
     "text": [
      "t = tensor([0.6445, 0.8586, 0.5294, 0.6372, 0.1860, 0.2026, 0.8572, 0.5653, 0.5533,\n",
      "        0.9031, 0.4331, 0.7448])\n",
      "shape of t = torch.Size([12])\n",
      "dimensions of t = 1\n"
     ]
    }
   ],
   "source": [
    "# create a tensor with 12 random values\n",
    "t = torch.rand(12)\n",
    "print_tensor_info(t)"
   ]
  },
  {
   "cell_type": "code",
   "execution_count": 26,
   "id": "c29499c6-5752-419e-b5f2-639d1a4d0368",
   "metadata": {},
   "outputs": [
    {
     "name": "stdout",
     "output_type": "stream",
     "text": [
      "t = tensor([[0.6445, 0.8586, 0.5294, 0.6372],\n",
      "        [0.1860, 0.2026, 0.8572, 0.5653],\n",
      "        [0.5533, 0.9031, 0.4331, 0.7448]])\n",
      "shape of t = torch.Size([3, 4])\n",
      "dimensions of t = 2\n"
     ]
    }
   ],
   "source": [
    "# reshape the tensor with different size\n",
    "t2 = t.reshape(3, 4)\n",
    "print_tensor_info(t2)"
   ]
  },
  {
   "cell_type": "code",
   "execution_count": 27,
   "id": "aed89f73-c9c1-4cdd-9658-84f968c7cce8",
   "metadata": {},
   "outputs": [
    {
     "name": "stdout",
     "output_type": "stream",
     "text": [
      "t = tensor([[0.6445, 0.8586, 0.5294],\n",
      "        [0.6372, 0.1860, 0.2026],\n",
      "        [0.8572, 0.5653, 0.5533],\n",
      "        [0.9031, 0.4331, 0.7448]])\n",
      "shape of t = torch.Size([4, 3])\n",
      "dimensions of t = 2\n"
     ]
    }
   ],
   "source": [
    "# reshape the tensor with different size\n",
    "t3 = t.reshape(4, 3)\n",
    "print_tensor_info(t3)"
   ]
  },
  {
   "cell_type": "code",
   "execution_count": 28,
   "id": "232ef8c6-457d-49cd-b61c-75e4d1bece00",
   "metadata": {},
   "outputs": [
    {
     "name": "stdout",
     "output_type": "stream",
     "text": [
      "t = tensor([[0.6445, 0.8586, 0.5294, 0.6372, 0.1860, 0.2026, 0.8572, 0.5653, 0.5533,\n",
      "         0.9031, 0.4331, 0.7448]])\n",
      "shape of t = torch.Size([1, 12])\n",
      "dimensions of t = 2\n"
     ]
    }
   ],
   "source": [
    "# reshape the tensor with different size\n",
    "t4 = t.reshape(1, 12)\n",
    "print_tensor_info(t4)"
   ]
  },
  {
   "cell_type": "code",
   "execution_count": 29,
   "id": "a65218b9-35d8-4a93-9c7f-b0959b58295b",
   "metadata": {},
   "outputs": [
    {
     "name": "stdout",
     "output_type": "stream",
     "text": [
      "t = tensor([[0.6445],\n",
      "        [0.8586],\n",
      "        [0.5294],\n",
      "        [0.6372],\n",
      "        [0.1860],\n",
      "        [0.2026],\n",
      "        [0.8572],\n",
      "        [0.5653],\n",
      "        [0.5533],\n",
      "        [0.9031],\n",
      "        [0.4331],\n",
      "        [0.7448]])\n",
      "shape of t = torch.Size([12, 1])\n",
      "dimensions of t = 2\n"
     ]
    }
   ],
   "source": [
    "# reshape the tensor with different size\n",
    "t5 = t.reshape(12, 1)\n",
    "print_tensor_info(t5)"
   ]
  },
  {
   "cell_type": "code",
   "execution_count": 33,
   "id": "2f530911-fa23-432c-bd33-194752e6911f",
   "metadata": {},
   "outputs": [
    {
     "name": "stdout",
     "output_type": "stream",
     "text": [
      "t = tensor([[0.6445, 0.8586, 0.5294, 0.6372, 0.1860, 0.2026],\n",
      "        [0.8572, 0.5653, 0.5533, 0.9031, 0.4331, 0.7448]])\n",
      "shape of t = torch.Size([2, 6])\n",
      "dimensions of t = 2\n"
     ]
    }
   ],
   "source": [
    "# reshape the tensor with different size\n",
    "t6 = t.reshape(2, 6)\n",
    "print_tensor_info(t6)"
   ]
  },
  {
   "cell_type": "code",
   "execution_count": 34,
   "id": "749fbd4e-130f-45b3-8d1e-55daec18a534",
   "metadata": {},
   "outputs": [
    {
     "name": "stdout",
     "output_type": "stream",
     "text": [
      "t = tensor([[0.6445, 0.8586],\n",
      "        [0.5294, 0.6372],\n",
      "        [0.1860, 0.2026],\n",
      "        [0.8572, 0.5653],\n",
      "        [0.5533, 0.9031],\n",
      "        [0.4331, 0.7448]])\n",
      "shape of t = torch.Size([6, 2])\n",
      "dimensions of t = 2\n"
     ]
    }
   ],
   "source": [
    "# reshape the tensor with different size\n",
    "t7 = t.reshape(6, 2)\n",
    "print_tensor_info(t7)"
   ]
  },
  {
   "cell_type": "code",
   "execution_count": 31,
   "id": "08cb5364-b43e-4496-bc1b-1d51c192e749",
   "metadata": {},
   "outputs": [],
   "source": [
    "# reshape the tensor with different size\n",
    "# this is not possible as 25 values can not be generated using 12 values\n",
    "# t6 = t.reshape(5, 5)\n",
    "# print_tensor_info(t6)"
   ]
  }
 ],
 "metadata": {
  "kernelspec": {
   "display_name": "Python 3 (ipykernel)",
   "language": "python",
   "name": "python3"
  },
  "language_info": {
   "codemirror_mode": {
    "name": "ipython",
    "version": 3
   },
   "file_extension": ".py",
   "mimetype": "text/x-python",
   "name": "python",
   "nbconvert_exporter": "python",
   "pygments_lexer": "ipython3",
   "version": "3.10.17"
  }
 },
 "nbformat": 4,
 "nbformat_minor": 5
}
