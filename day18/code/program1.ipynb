{
 "cells": [
  {
   "cell_type": "markdown",
   "id": "af7c04e0-3f5e-4233-80f7-8b57b0c8ce5c",
   "metadata": {},
   "source": [
    "# PyTorch"
   ]
  },
  {
   "cell_type": "markdown",
   "id": "02175868-5653-4507-9c9e-dc3329f9867a",
   "metadata": {},
   "source": [
    "## Tensor\n",
    "- multi-dimensional array"
   ]
  },
  {
   "cell_type": "markdown",
   "id": "42e1d003-1af8-4158-be9e-cb3ff28631ed",
   "metadata": {},
   "source": [
    "### install required libraries"
   ]
  },
  {
   "cell_type": "code",
   "execution_count": null,
   "id": "f5c545a3-7e55-407b-bab6-59f5039af9d9",
   "metadata": {},
   "outputs": [],
   "source": [
    "%pip install torch torchvision torchaudio torchtext"
   ]
  },
  {
   "cell_type": "markdown",
   "id": "def49508-44f8-4c0d-99bf-21ecb83f86cf",
   "metadata": {},
   "source": [
    "### import required libraries"
   ]
  },
  {
   "cell_type": "code",
   "execution_count": 4,
   "id": "cac75899-2d96-4ecf-8b93-efa17ba2d280",
   "metadata": {},
   "outputs": [],
   "source": [
    "import torch"
   ]
  },
  {
   "cell_type": "code",
   "execution_count": 14,
   "id": "6229ab29-1e4a-44c7-90be-f71c75b3b8df",
   "metadata": {},
   "outputs": [
    {
     "data": {
      "text/plain": [
       "'2.6.0'"
      ]
     },
     "execution_count": 14,
     "metadata": {},
     "output_type": "execute_result"
    }
   ],
   "source": [
    "torch.__version__"
   ]
  },
  {
   "cell_type": "code",
   "execution_count": 27,
   "id": "bcf9e986-366e-4d8d-80e7-61994efa3e50",
   "metadata": {},
   "outputs": [
    {
     "data": {
      "text/plain": [
       "False"
      ]
     },
     "execution_count": 27,
     "metadata": {},
     "output_type": "execute_result"
    }
   ],
   "source": [
    "# cuda will be available for NVidia GPUs\n",
    "torch.cuda.is_available()"
   ]
  },
  {
   "cell_type": "code",
   "execution_count": 31,
   "id": "4af5cd3e-c3e8-4ac7-a2d8-5154ac303dfd",
   "metadata": {},
   "outputs": [
    {
     "data": {
      "text/plain": [
       "True"
      ]
     },
     "execution_count": 31,
     "metadata": {},
     "output_type": "execute_result"
    }
   ],
   "source": [
    "# mps will be available on apple machines (M1, M2, M3 and M4)\n",
    "torch.mps.is_available()"
   ]
  },
  {
   "cell_type": "markdown",
   "id": "db55cee6-a2b2-4d3c-81fe-8cea1ae9da05",
   "metadata": {},
   "source": [
    "### create tensors using torch.tensor()"
   ]
  },
  {
   "cell_type": "code",
   "execution_count": 23,
   "id": "8ec1c27a-873f-4af9-8bab-7167b492ff4a",
   "metadata": {},
   "outputs": [
    {
     "name": "stdout",
     "output_type": "stream",
     "text": [
      "t1 = 10\n",
      "type of t1 = <class 'torch.Tensor'>\n",
      "value inside t1 = 10\n",
      "shape of t1 = torch.Size([])\n",
      "type of item stored in t1 = torch.int64\n",
      "size of t1 = torch.Size([])\n",
      "t1 is loaded on cpu device\n"
     ]
    }
   ],
   "source": [
    "# scalar tensor\n",
    "t1 = torch.tensor(10)\n",
    "\n",
    "print(f\"t1 = {t1}\")\n",
    "print(f\"type of t1 = {type(t1)}\")\n",
    "print(f\"value inside t1 = {t1.item()}\")\n",
    "print(f\"shape of t1 = {t1.shape}\")\n",
    "print(f\"type of item stored in t1 = {t1.dtype}\")\n",
    "print(f\"size of t1 = {t1.size()}\")\n",
    "print(f\"t1 is loaded on {t1.device} device\")"
   ]
  },
  {
   "cell_type": "code",
   "execution_count": 33,
   "id": "6316d6c5-8f70-4c26-aa70-e58d52cabe49",
   "metadata": {},
   "outputs": [
    {
     "name": "stdout",
     "output_type": "stream",
     "text": [
      "t1_gpu is loaded on mps:0 device\n"
     ]
    }
   ],
   "source": [
    "# if you are running the code on non-apple machine, replace mps with cuda\n",
    "#  t1.to(\"cuda\")\n",
    "t1_gpu = t1.to(\"mps\")\n",
    "print(f\"t1_gpu is loaded on {t1_gpu.device} device\")"
   ]
  },
  {
   "cell_type": "code",
   "execution_count": 24,
   "id": "44fad7a7-6f8d-4d61-b4a9-60b34fe4003e",
   "metadata": {},
   "outputs": [
    {
     "name": "stdout",
     "output_type": "stream",
     "text": [
      "t2 = tensor([10, 20, 30, 40, 50])\n",
      "type of t2 = <class 'torch.Tensor'>\n",
      "shape of t2 = torch.Size([5])\n",
      "type of item stored in t2 = torch.int64\n",
      "size of t2 = torch.Size([5])\n",
      "t2 is loaded on cpu device\n"
     ]
    }
   ],
   "source": [
    "# Vector (1D tensor)\n",
    "t2 = torch.tensor([10, 20, 30, 40, 50])\n",
    "\n",
    "print(f\"t2 = {t2}\")\n",
    "print(f\"type of t2 = {type(t2)}\")\n",
    "print(f\"shape of t2 = {t2.shape}\")\n",
    "print(f\"type of item stored in t2 = {t2.dtype}\")\n",
    "print(f\"size of t2 = {t2.size()}\")\n",
    "print(f\"t2 is loaded on {t2.device} device\")\n",
    "\n",
    "# item() is available only for scalar tensor\n",
    "# print(f\"value inside t2 = {t2.item()}\")"
   ]
  },
  {
   "cell_type": "code",
   "execution_count": 25,
   "id": "4408bb0c-6019-4b9d-8555-69565e3c0d29",
   "metadata": {},
   "outputs": [
    {
     "name": "stdout",
     "output_type": "stream",
     "text": [
      "t3 = tensor([[10, 20],\n",
      "        [30, 40],\n",
      "        [50, 60]])\n",
      "type of t3 = <class 'torch.Tensor'>\n",
      "shape of t3 = torch.Size([3, 2])\n",
      "type of item stored in t3 = torch.int64\n",
      "size of t3 = torch.Size([3, 2])\n",
      "t3 is loaded on cpu device\n"
     ]
    }
   ],
   "source": [
    "# Matrix (2D tensor) of size 3x2\n",
    "t3 = torch.tensor([[10, 20], [30, 40], [50, 60]])\n",
    "\n",
    "print(f\"t3 = {t3}\")\n",
    "print(f\"type of t3 = {type(t3)}\")\n",
    "print(f\"shape of t3 = {t3.shape}\")\n",
    "print(f\"type of item stored in t3 = {t3.dtype}\")\n",
    "print(f\"size of t3 = {t3.size()}\")\n",
    "print(f\"t3 is loaded on {t3.device} device\")"
   ]
  },
  {
   "cell_type": "code",
   "execution_count": 51,
   "id": "0823431b-c224-4864-a719-900d278afcdf",
   "metadata": {},
   "outputs": [
    {
     "name": "stdout",
     "output_type": "stream",
     "text": [
      "type of t = torch.int64\n",
      "size of t = torch.Size([4])\n",
      "no of byes required to store the tensor = 32 bytes\n"
     ]
    }
   ],
   "source": [
    "# create a tensor \n",
    "t = torch.tensor([10, 20, 30, 40])\n",
    "print(f\"type of t = {t.dtype}\")\n",
    "print(f\"size of t = {t.size()}\")\n",
    "print(f\"no of byes required to store the tensor = {t.nbytes} bytes\")\n"
   ]
  },
  {
   "cell_type": "code",
   "execution_count": 53,
   "id": "be34adb8-57e2-4d95-8bad-1ac6d7edbf8e",
   "metadata": {},
   "outputs": [
    {
     "name": "stdout",
     "output_type": "stream",
     "text": [
      "type of t = torch.int32\n",
      "size of t = torch.Size([4])\n",
      "no of byes required to store the tensor = 16 bytes\n"
     ]
    }
   ],
   "source": [
    "# create a tensor \n",
    "t = torch.tensor([10, 20, 30, 40], dtype=torch.int32)\n",
    "\n",
    "print(f\"type of t = {t.dtype}\")\n",
    "print(f\"size of t = {t.size()}\")\n",
    "print(f\"no of byes required to store the tensor = {t.nbytes} bytes\")"
   ]
  },
  {
   "cell_type": "code",
   "execution_count": 55,
   "id": "5aa0bd02-8616-4271-80c7-ae765713297a",
   "metadata": {},
   "outputs": [
    {
     "name": "stdout",
     "output_type": "stream",
     "text": [
      "type of t = torch.int16\n",
      "size of t = torch.Size([4])\n",
      "no of byes required to store the tensor = 8 bytes\n"
     ]
    }
   ],
   "source": [
    "# create a tensor \n",
    "t = torch.tensor([10, 20, 30, 40], dtype=torch.int16)\n",
    "print(f\"type of t = {t.dtype}\")\n",
    "print(f\"size of t = {t.size()}\")\n",
    "print(f\"no of byes required to store the tensor = {t.nbytes} bytes\")"
   ]
  },
  {
   "cell_type": "code",
   "execution_count": 59,
   "id": "a92ad8a2-df89-4f4b-8cf5-593a52f8d178",
   "metadata": {},
   "outputs": [
    {
     "name": "stdout",
     "output_type": "stream",
     "text": [
      "t = tensor([10, 20, 30, 40], dtype=torch.int8)\n",
      "type of t = torch.int8\n",
      "size of t = torch.Size([4])\n",
      "no of byes required to store the tensor = 4 bytes\n"
     ]
    }
   ],
   "source": [
    "# create a tensor \n",
    "t = torch.tensor([10, 20, 30, 40], dtype=torch.int8)\n",
    "print(f\"t = {t}\")\n",
    "print(f\"type of t = {t.dtype}\")\n",
    "print(f\"size of t = {t.size()}\")\n",
    "print(f\"no of byes required to store the tensor = {t.nbytes} bytes\")"
   ]
  },
  {
   "cell_type": "code",
   "execution_count": null,
   "id": "18e0a2a1-cb27-4afa-8388-33cc55e7ebbe",
   "metadata": {},
   "outputs": [],
   "source": []
  },
  {
   "cell_type": "code",
   "execution_count": 58,
   "id": "36bc7043-d75c-4b31-8586-53dd0f33c667",
   "metadata": {},
   "outputs": [
    {
     "name": "stdout",
     "output_type": "stream",
     "text": [
      "t = tensor([10., 20., 30., 40.], dtype=torch.float16)\n",
      "type of t = torch.float16\n",
      "size of t = torch.Size([4])\n",
      "no of byes required to store the tensor = 8 bytes\n"
     ]
    }
   ],
   "source": [
    "# create a tensor \n",
    "t = torch.tensor([10, 20, 30, 40], dtype=torch.float16)\n",
    "print(f\"t = {t}\")\n",
    "print(f\"type of t = {t.dtype}\")\n",
    "print(f\"size of t = {t.size()}\")\n",
    "print(f\"no of byes required to store the tensor = {t.nbytes} bytes\")"
   ]
  },
  {
   "cell_type": "markdown",
   "id": "71eaffad-902e-4a89-a92b-397bb307b4c2",
   "metadata": {},
   "source": [
    "### create tensor using utility functions"
   ]
  },
  {
   "cell_type": "code",
   "execution_count": 34,
   "id": "23b74d9b-c4fc-4414-8e59-38ef5c89cfec",
   "metadata": {},
   "outputs": [
    {
     "data": {
      "text/plain": [
       "tensor([0., 0., 0., 0., 0.])"
      ]
     },
     "execution_count": 34,
     "metadata": {},
     "output_type": "execute_result"
    }
   ],
   "source": [
    "torch.zeros(5)"
   ]
  },
  {
   "cell_type": "code",
   "execution_count": 39,
   "id": "56c3b442-d97f-4c6f-b077-001d1b86fc5f",
   "metadata": {},
   "outputs": [
    {
     "data": {
      "text/plain": [
       "tensor([1., 1., 1., 1., 1.])"
      ]
     },
     "execution_count": 39,
     "metadata": {},
     "output_type": "execute_result"
    }
   ],
   "source": [
    "# create a scalar tensor\n",
    "torch.ones(5)"
   ]
  },
  {
   "cell_type": "code",
   "execution_count": 38,
   "id": "56a50b2a-e15c-4b28-b10e-1092f58278ce",
   "metadata": {},
   "outputs": [
    {
     "data": {
      "text/plain": [
       "tensor([[1., 1., 1.],\n",
       "        [1., 1., 1.],\n",
       "        [1., 1., 1.],\n",
       "        [1., 1., 1.]])"
      ]
     },
     "execution_count": 38,
     "metadata": {},
     "output_type": "execute_result"
    }
   ],
   "source": [
    "# create a matrix tensor\n",
    "torch.ones(4, 3)"
   ]
  },
  {
   "cell_type": "code",
   "execution_count": 40,
   "id": "0d42bce7-433e-4922-b68a-49f890715c43",
   "metadata": {},
   "outputs": [
    {
     "data": {
      "text/plain": [
       "tensor([[0., 0., 0.],\n",
       "        [0., 0., 0.],\n",
       "        [0., 0., 0.],\n",
       "        [0., 0., 0.]])"
      ]
     },
     "execution_count": 40,
     "metadata": {},
     "output_type": "execute_result"
    }
   ],
   "source": [
    "# create a matrix tensor\n",
    "torch.zeros(4, 3)"
   ]
  },
  {
   "cell_type": "code",
   "execution_count": 44,
   "id": "0604d004-65e6-4ce7-bf88-044945f7ec24",
   "metadata": {},
   "outputs": [
    {
     "name": "stdout",
     "output_type": "stream",
     "text": [
      "tensor([0.3497, 0.4806, 0.9791, 0.2289, 0.5849])\n",
      "tensor([[0.1149, 0.2969, 0.1553, 0.2686, 0.0079],\n",
      "        [0.1223, 0.8867, 0.7770, 0.8116, 0.4471],\n",
      "        [0.3197, 0.3417, 0.7633, 0.5209, 0.9645],\n",
      "        [0.4632, 0.5628, 0.3210, 0.7970, 0.0618],\n",
      "        [0.1615, 0.8004, 0.2612, 0.6652, 0.1266]])\n"
     ]
    }
   ],
   "source": [
    "# create a tensor with random values\n",
    "print(torch.rand(5))\n",
    "print(torch.rand(5, 5))"
   ]
  },
  {
   "cell_type": "code",
   "execution_count": 46,
   "id": "0287864b-fa67-4584-a12a-ed8b64106b54",
   "metadata": {},
   "outputs": [
    {
     "name": "stdout",
     "output_type": "stream",
     "text": [
      "tensor([-0.1942, -0.1389, -0.3344, -0.2456, -0.2533])\n",
      "tensor([[ 1.0309,  0.4392, -0.1762, -0.9288],\n",
      "        [ 0.3464, -0.1895, -0.4222, -1.1735],\n",
      "        [-1.1390, -0.2932, -0.9929,  0.1354],\n",
      "        [ 0.9396, -2.5688, -0.5845,  0.7574],\n",
      "        [ 0.0359, -2.1070,  1.5142,  1.1835]])\n"
     ]
    }
   ],
   "source": [
    "# create a tensor using normal distribution\n",
    "print(torch.randn(5))\n",
    "print(torch.randn(5, 4))"
   ]
  },
  {
   "cell_type": "code",
   "execution_count": null,
   "id": "b4e1ee30-90b2-4fe3-bbfc-9754eb039162",
   "metadata": {},
   "outputs": [],
   "source": []
  }
 ],
 "metadata": {
  "kernelspec": {
   "display_name": "Python 3 (ipykernel)",
   "language": "python",
   "name": "python3"
  },
  "language_info": {
   "codemirror_mode": {
    "name": "ipython",
    "version": 3
   },
   "file_extension": ".py",
   "mimetype": "text/x-python",
   "name": "python",
   "nbconvert_exporter": "python",
   "pygments_lexer": "ipython3",
   "version": "3.10.17"
  }
 },
 "nbformat": 4,
 "nbformat_minor": 5
}
