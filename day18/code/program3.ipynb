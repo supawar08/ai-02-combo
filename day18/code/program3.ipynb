{
 "cells": [
  {
   "cell_type": "markdown",
   "id": "c16e2057-908a-4995-971b-1e0a6b647792",
   "metadata": {},
   "source": [
    "# Tensor demo"
   ]
  },
  {
   "cell_type": "markdown",
   "id": "81742c75-f52c-42eb-aada-5b9948802c59",
   "metadata": {},
   "source": [
    "### import required libraries"
   ]
  },
  {
   "cell_type": "code",
   "execution_count": 1,
   "id": "9cc6ae05-0d01-4489-b594-f3159a453ceb",
   "metadata": {},
   "outputs": [],
   "source": [
    "import torch"
   ]
  },
  {
   "cell_type": "markdown",
   "id": "f830a244-6f9d-4d41-9878-42aba5b17ca2",
   "metadata": {},
   "source": [
    "### indexing the values"
   ]
  },
  {
   "cell_type": "code",
   "execution_count": 2,
   "id": "fee613a6-58b5-4187-81e0-42b5745ee1b4",
   "metadata": {},
   "outputs": [],
   "source": [
    "t = torch.tensor([10, 20, 30, 40, 50, 60, 70, 80, 90, 100])"
   ]
  },
  {
   "cell_type": "code",
   "execution_count": 5,
   "id": "49b46c97-cf39-4d57-9388-4b7b61e9a119",
   "metadata": {},
   "outputs": [
    {
     "name": "stdout",
     "output_type": "stream",
     "text": [
      "value at 0 = 10\n"
     ]
    }
   ],
   "source": [
    "# indexing with +ve index positions\n",
    "print(f\"value at 0 = {t[0]}\")"
   ]
  },
  {
   "cell_type": "code",
   "execution_count": 7,
   "id": "64aab66d-86f8-4841-9caa-ef3ca5441cb3",
   "metadata": {},
   "outputs": [
    {
     "name": "stdout",
     "output_type": "stream",
     "text": [
      "value at -1 = 100\n"
     ]
    }
   ],
   "source": [
    "# indexing with negative positions\n",
    "# -1 represents the last value of the tensor\n",
    "print(f\"value at -1 = {t[-1]}\")"
   ]
  },
  {
   "cell_type": "code",
   "execution_count": 8,
   "id": "0479f199-23ba-40a6-a62a-d4b451d09f1c",
   "metadata": {},
   "outputs": [
    {
     "name": "stdout",
     "output_type": "stream",
     "text": [
      "t[[1, 4, 5, 8]] = tensor([20, 50, 60, 90])\n"
     ]
    }
   ],
   "source": [
    "# indexing multiple values with numeric positions\n",
    "print(f\"t[[1, 4, 5, 8]] = {t[[1, 4, 5, 8]]}\")"
   ]
  },
  {
   "cell_type": "code",
   "execution_count": 9,
   "id": "2808ff0c-568e-4d2b-a448-fd14ddb1aa9c",
   "metadata": {},
   "outputs": [
    {
     "name": "stdout",
     "output_type": "stream",
     "text": [
      "t[[1, 4, 5, 8]] = tensor([20, 50, 60, 90])\n"
     ]
    }
   ],
   "source": [
    "# indexing with boolean positions\n",
    "print(f\"t[[1, 4, 5, 8]] = {t[[False, True, False, False, True, True, False, False, True, False]]}\")"
   ]
  },
  {
   "cell_type": "code",
   "execution_count": 12,
   "id": "6c075445-8d18-476c-a2b4-2f1e67719bed",
   "metadata": {},
   "outputs": [
    {
     "name": "stdout",
     "output_type": "stream",
     "text": [
      "values > 60 = tensor([ 70,  80,  90, 100])\n"
     ]
    }
   ],
   "source": [
    "# filtering values = indexing + broadcast comparison operation\n",
    "print(f\"values > 60 = {t[t > 60]}\")"
   ]
  },
  {
   "cell_type": "code",
   "execution_count": null,
   "id": "835e0fa5-34ce-4fa1-9eae-a0e0dc7a909f",
   "metadata": {},
   "outputs": [],
   "source": []
  },
  {
   "cell_type": "markdown",
   "id": "7723f199-8c4c-4703-812e-4f324bc82f60",
   "metadata": {},
   "source": [
    "### slicing"
   ]
  },
  {
   "cell_type": "code",
   "execution_count": 15,
   "id": "6bca8dd8-ac95-4391-89ca-37513d987362",
   "metadata": {},
   "outputs": [
    {
     "name": "stdout",
     "output_type": "stream",
     "text": [
      "t[2:7] = tensor([30, 40, 50, 60, 70])\n"
     ]
    }
   ],
   "source": [
    "# get the values from 2 to 6 positions\n",
    "# the upper last value will NOT be included\n",
    "print(f\"t[2:7] = {t[2:7]}\")"
   ]
  },
  {
   "cell_type": "code",
   "execution_count": 17,
   "id": "93f3f2ff-4b74-4789-8112-8b12489ed18b",
   "metadata": {},
   "outputs": [
    {
     "name": "stdout",
     "output_type": "stream",
     "text": [
      "t[5:] = tensor([ 60,  70,  80,  90, 100])\n"
     ]
    }
   ],
   "source": [
    "# get the values from 5th to the last position\n",
    "print(f\"t[5:] = {t[5:]}\")"
   ]
  },
  {
   "cell_type": "code",
   "execution_count": 18,
   "id": "724c46c2-e561-49f5-b744-41f6eadd2d5c",
   "metadata": {},
   "outputs": [
    {
     "name": "stdout",
     "output_type": "stream",
     "text": [
      "t[:5] = tensor([10, 20, 30, 40, 50])\n"
     ]
    }
   ],
   "source": [
    "# get the values from 0th to the 5th position\n",
    "print(f\"t[:5] = {t[:5]}\")"
   ]
  },
  {
   "cell_type": "code",
   "execution_count": 20,
   "id": "c0c37cb5-3a92-40a4-ada8-c00a60d6cb5c",
   "metadata": {},
   "outputs": [
    {
     "name": "stdout",
     "output_type": "stream",
     "text": [
      "t[:] = tensor([ 10,  20,  30,  40,  50,  60,  70,  80,  90, 100])\n"
     ]
    }
   ],
   "source": [
    "# get all the values\n",
    "print(f\"t[:] = {t[:]}\")"
   ]
  },
  {
   "cell_type": "code",
   "execution_count": null,
   "id": "d8fc7da5-0e9f-4029-a2a0-710dfa476a86",
   "metadata": {},
   "outputs": [],
   "source": []
  }
 ],
 "metadata": {
  "kernelspec": {
   "display_name": "Python 3 (ipykernel)",
   "language": "python",
   "name": "python3"
  },
  "language_info": {
   "codemirror_mode": {
    "name": "ipython",
    "version": 3
   },
   "file_extension": ".py",
   "mimetype": "text/x-python",
   "name": "python",
   "nbconvert_exporter": "python",
   "pygments_lexer": "ipython3",
   "version": "3.10.17"
  }
 },
 "nbformat": 4,
 "nbformat_minor": 5
}
